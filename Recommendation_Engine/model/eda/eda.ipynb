{
 "cells": [
  {
   "cell_type": "markdown",
   "metadata": {},
   "source": [
    "# Exploratory Data Analysis"
   ]
  },
  {
   "cell_type": "markdown",
   "metadata": {},
   "source": [
    "Importing neceassary libraries and reading the file"
   ]
  },
  {
   "cell_type": "code",
   "execution_count": 41,
   "metadata": {},
   "outputs": [],
   "source": [
    "import pandas as pd\n",
    "import matplotlib.pyplot as plt\n",
    "import seaborn as sns\n"
   ]
  },
  {
   "cell_type": "code",
   "execution_count": 2,
   "metadata": {},
   "outputs": [],
   "source": [
    "df = pd.read_csv('DATA_ML.csv', index_col=False)"
   ]
  },
  {
   "cell_type": "code",
   "execution_count": 3,
   "metadata": {},
   "outputs": [
    {
     "data": {
      "text/plain": [
       "'2024-07-12'"
      ]
     },
     "execution_count": 3,
     "metadata": {},
     "output_type": "execute_result"
    }
   ],
   "source": [
    "end_date_max = df['END_DATE'].max()\n",
    "end_date_max"
   ]
  },
  {
   "cell_type": "code",
   "execution_count": null,
   "metadata": {},
   "outputs": [],
   "source": [
    "pd.set_option('display.max_columns', None)\n",
    "del(df['Unnamed: 0'])\n",
    "df.head()"
   ]
  },
  {
   "cell_type": "markdown",
   "metadata": {},
   "source": [
    "Checking whether or not any customer purchased any 2 devices at the same date"
   ]
  },
  {
   "cell_type": "code",
   "execution_count": 5,
   "metadata": {},
   "outputs": [
    {
     "data": {
      "text/plain": [
       "0"
      ]
     },
     "execution_count": 5,
     "metadata": {},
     "output_type": "execute_result"
    }
   ],
   "source": [
    "duplicate_start_dates = df[df.duplicated(subset=['ID', 'DEVICE_ID', 'START_DATE'], keep=False)]\n",
    "users_with_non_unique_start_dates = duplicate_start_dates['ID'].unique()\n",
    "\n",
    "len(users_with_non_unique_start_dates)"
   ]
  },
  {
   "cell_type": "markdown",
   "metadata": {},
   "source": [
    "Sorting values by user ID and START_DATE"
   ]
  },
  {
   "cell_type": "code",
   "execution_count": 6,
   "metadata": {},
   "outputs": [],
   "source": [
    "sorted_df = df.sort_values(['ID',\"START_DATE\"])"
   ]
  },
  {
   "cell_type": "code",
   "execution_count": null,
   "metadata": {},
   "outputs": [],
   "source": [
    "sorted_df.head()"
   ]
  },
  {
   "cell_type": "markdown",
   "metadata": {},
   "source": [
    "Average Brand Usage Duration"
   ]
  },
  {
   "cell_type": "code",
   "execution_count": null,
   "metadata": {},
   "outputs": [],
   "source": [
    "temp = sorted_df.groupby('BRAND')['DAYS_USED'].mean()\n",
    "days_by_brand = pd.DataFrame(temp)\n",
    "days_by_brand = days_by_brand.sort_values('DAYS_USED',ascending=False)\n",
    "days_by_brand.head(10)"
   ]
  },
  {
   "cell_type": "markdown",
   "metadata": {},
   "source": [
    "Calculating the total number of devices used per brand."
   ]
  },
  {
   "cell_type": "code",
   "execution_count": null,
   "metadata": {},
   "outputs": [],
   "source": [
    "phones_per_brand = sorted_df.groupby('BRAND')['ID'].count().reset_index(name='TOTAL_COUNT')\n",
    "phone_per_brand = pd.DataFrame(phones_per_brand)\n",
    "phone_per_brand = phone_per_brand.sort_values('TOTAL_COUNT',ascending=False)\n",
    "phone_per_brand.head(10)"
   ]
  },
  {
   "cell_type": "markdown",
   "metadata": {},
   "source": [
    "Merging dataframes & Renaming columns"
   ]
  },
  {
   "cell_type": "code",
   "execution_count": null,
   "metadata": {},
   "outputs": [],
   "source": [
    "summary_df = pd.merge(phone_per_brand, days_by_brand, on='BRAND', how='inner')\n",
    "summary_df.rename(columns={'DAYS_USED': 'MEAN_DAYS_USED'}, inplace=True)\n",
    "summary_df.rename(columns={'TOTAL_COUNT': 'PHONE_COUNT'}, inplace=True)\n",
    "summary_df['MEAN_DAYS_USED'] = summary_df['MEAN_DAYS_USED'].round(2)\n",
    "summary_df.head(10)"
   ]
  },
  {
   "cell_type": "markdown",
   "metadata": {},
   "source": [
    "Identifing and counting transitions between brands"
   ]
  },
  {
   "cell_type": "code",
   "execution_count": null,
   "metadata": {},
   "outputs": [],
   "source": [
    "temp = sorted_df\n",
    "temp['NEXT_BRAND'] = temp.groupby('ID')['BRAND'].shift(-1)\n",
    "\n",
    "temp = temp.dropna(subset=['NEXT_BRAND'])\n",
    "\n",
    "temp['FROM_TO'] = temp['BRAND'] + ' to ' + temp['NEXT_BRAND']\n",
    "\n",
    "brand_change_counts = temp.groupby(['FROM_TO']).size().reset_index(name='COUNT')\n",
    "\n",
    "brand_change_counts[['FROM', 'TO']] = brand_change_counts['FROM_TO'].str.split(' to ', expand=True)\n",
    "\n",
    "brand_change_df = brand_change_counts[['FROM', 'TO', 'COUNT']]\n",
    "\n",
    "brand_change_df =  brand_change_df.sort_values('COUNT',ascending=False)"
   ]
  },
  {
   "cell_type": "code",
   "execution_count": 14,
   "metadata": {},
   "outputs": [],
   "source": [
    "brand_change_df['CHANGE'] = brand_change_df['FROM'] + ' to ' + brand_change_df['TO']"
   ]
  },
  {
   "cell_type": "code",
   "execution_count": null,
   "metadata": {},
   "outputs": [],
   "source": [
    "brand_change_df = brand_change_df.sort_values('COUNT',ascending=False)\n",
    "brand_change_df.head(15)"
   ]
  },
  {
   "cell_type": "markdown",
   "metadata": {},
   "source": [
    "Data showing changing the device from 'Apple' to other brands"
   ]
  },
  {
   "cell_type": "code",
   "execution_count": null,
   "metadata": {},
   "outputs": [],
   "source": [
    "brand_change_df[brand_change_df['FROM'] == 'Apple'].head(8)"
   ]
  },
  {
   "cell_type": "markdown",
   "metadata": {},
   "source": [
    "Bar plot visualizing chnages from one brand to another"
   ]
  },
  {
   "cell_type": "code",
   "execution_count": null,
   "metadata": {},
   "outputs": [],
   "source": [
    "plt.figure(figsize=(6, 3))\n",
    "sns.set_palette(\"Set1\")\n",
    "sns.barplot(data=brand_change_df.head(15), x='FROM', y='COUNT', hue='TO')\n",
    "plt.title('Phone Brand Changes')\n",
    "plt.xlabel('From Brand') \n",
    "plt.ylabel('Count of Changes')\n",
    "plt.xticks(rotation=45)\n",
    "plt.legend(title='To Brand') \n",
    "plt.show()\n"
   ]
  },
  {
   "cell_type": "markdown",
   "metadata": {},
   "source": [
    "Deleting the column 'NEXT_BRAND'"
   ]
  },
  {
   "cell_type": "code",
   "execution_count": 18,
   "metadata": {},
   "outputs": [],
   "source": [
    "sorted_df= sorted_df.drop('NEXT_BRAND', axis=1)\n"
   ]
  },
  {
   "cell_type": "code",
   "execution_count": null,
   "metadata": {},
   "outputs": [],
   "source": [
    "sorted_df.head(12)"
   ]
  },
  {
   "cell_type": "markdown",
   "metadata": {},
   "source": [
    "Normalizing the frequency of each 'OS_CODE' & mapping these frequencies back to the 'OS_CODE' column"
   ]
  },
  {
   "cell_type": "code",
   "execution_count": 20,
   "metadata": {},
   "outputs": [],
   "source": [
    "frequency_map = sorted_df['OS_CODE'].value_counts(normalize=True)\n",
    "\n",
    "sorted_df['OS_CODE'] = sorted_df['OS_CODE'].map(frequency_map)"
   ]
  },
  {
   "cell_type": "code",
   "execution_count": null,
   "metadata": {},
   "outputs": [],
   "source": [
    "sorted_df.head()"
   ]
  },
  {
   "cell_type": "markdown",
   "metadata": {},
   "source": [
    "Droping columns"
   ]
  },
  {
   "cell_type": "code",
   "execution_count": 22,
   "metadata": {},
   "outputs": [],
   "source": [
    "sorted_df = sorted_df.drop(['BRAND', 'MODEL'], axis=1)"
   ]
  },
  {
   "cell_type": "code",
   "execution_count": null,
   "metadata": {},
   "outputs": [],
   "source": [
    "sorted_df['BODY_TYPE'].value_counts()"
   ]
  },
  {
   "cell_type": "markdown",
   "metadata": {},
   "source": [
    "Normalizing the frequency of each 'BODY_TYPE' & mapping these frequencies back to the 'BODY_TYPE' column"
   ]
  },
  {
   "cell_type": "code",
   "execution_count": 24,
   "metadata": {},
   "outputs": [],
   "source": [
    "frequency_map2 = sorted_df['BODY_TYPE'].value_counts(normalize=True)\n",
    "\n",
    "sorted_df['BODY_TYPE'] = sorted_df['BODY_TYPE'].map(frequency_map2)"
   ]
  },
  {
   "cell_type": "code",
   "execution_count": 25,
   "metadata": {},
   "outputs": [],
   "source": [
    "# sorted_df = sorted_df.drop(['START_DATE', 'END_DATE','RELEASE_DATE'], axis=1)"
   ]
  },
  {
   "cell_type": "markdown",
   "metadata": {},
   "source": [
    "Normalizing the frequency of each 'OS_VENDOR_CODE' & mapping these frequencies back to the 'OS_VENDOR_CODE' column"
   ]
  },
  {
   "cell_type": "code",
   "execution_count": 26,
   "metadata": {},
   "outputs": [],
   "source": [
    "frequency_map3 = sorted_df['OS_VENDOR_CODE'].value_counts(normalize=True)\n",
    "\n",
    "sorted_df['OS_VENDOR_CODE'] = sorted_df['OS_VENDOR_CODE'].map(frequency_map3)"
   ]
  },
  {
   "cell_type": "markdown",
   "metadata": {},
   "source": [
    "Create a new column 'IS_CHANGED' that flags whether 'END_DATE' is not null and before the current date."
   ]
  },
  {
   "cell_type": "code",
   "execution_count": 27,
   "metadata": {},
   "outputs": [],
   "source": [
    "current_date = end_date_max\n",
    "\n",
    "sorted_df['IS_CHANGED'] = sorted_df['END_DATE'].apply(lambda x: 1 if pd.notna(x) and x < current_date else 0)"
   ]
  },
  {
   "cell_type": "code",
   "execution_count": null,
   "metadata": {},
   "outputs": [],
   "source": [
    "sorted_df[sorted_df['IS_CHANGED'] == 0].head()"
   ]
  },
  {
   "cell_type": "markdown",
   "metadata": {},
   "source": [
    "Dropping a column"
   ]
  },
  {
   "cell_type": "code",
   "execution_count": 29,
   "metadata": {},
   "outputs": [],
   "source": [
    "sorted_df = sorted_df.drop(['OS_VENDOR_CODE'], axis=1)"
   ]
  },
  {
   "cell_type": "code",
   "execution_count": 30,
   "metadata": {},
   "outputs": [],
   "source": [
    "sorted_df['BATTERY_CAPACITY'] = sorted_df['BATTERY_CAPACITY'].astype(int)"
   ]
  },
  {
   "cell_type": "code",
   "execution_count": 31,
   "metadata": {},
   "outputs": [],
   "source": [
    "sorted_df['PIXEL_DENSITY'] = sorted_df['PIXEL_DENSITY'].astype(int)"
   ]
  },
  {
   "cell_type": "code",
   "execution_count": null,
   "metadata": {},
   "outputs": [],
   "source": [
    "sorted_df['OS_TYPE_CODE'].value_counts()"
   ]
  },
  {
   "cell_type": "markdown",
   "metadata": {},
   "source": [
    "Dropping a column"
   ]
  },
  {
   "cell_type": "code",
   "execution_count": 33,
   "metadata": {},
   "outputs": [],
   "source": [
    "sorted_df = sorted_df.drop('OS_TYPE_CODE', axis=1)"
   ]
  },
  {
   "cell_type": "code",
   "execution_count": null,
   "metadata": {},
   "outputs": [],
   "source": [
    "sorted_df['MULTISIM_MODE_CODE'].value_counts()"
   ]
  },
  {
   "cell_type": "code",
   "execution_count": null,
   "metadata": {},
   "outputs": [],
   "source": [
    "sorted_df.head()"
   ]
  }
 ],
 "metadata": {
  "kernelspec": {
   "display_name": "Python 3 (ipykernel)",
   "language": "python",
   "name": "python3"
  },
  "language_info": {
   "codemirror_mode": {
    "name": "ipython",
    "version": 3
   },
   "file_extension": ".py",
   "mimetype": "text/x-python",
   "name": "python",
   "nbconvert_exporter": "python",
   "pygments_lexer": "ipython3",
   "version": "3.11.9"
  }
 },
 "nbformat": 4,
 "nbformat_minor": 4
}
