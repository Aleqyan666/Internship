{
 "cells": [
  {
   "cell_type": "markdown",
   "metadata": {},
   "source": [
    "Importing libraries"
   ]
  },
  {
   "cell_type": "code",
   "execution_count": 52,
   "metadata": {},
   "outputs": [],
   "source": [
    "import pandas as pd\n",
    "import numpy as np\n",
    "import matplotlib.pyplot as plt\n",
    "import seaborn as sns\n",
    "from sklearn.cluster import KMeans"
   ]
  },
  {
   "cell_type": "markdown",
   "metadata": {},
   "source": [
    "Reading the file `MERGED_DATA.csv` into a dataframe"
   ]
  },
  {
   "cell_type": "code",
   "execution_count": 2,
   "metadata": {},
   "outputs": [],
   "source": [
    "df = pd.read_csv('MERGED_DATA.csv')"
   ]
  },
  {
   "cell_type": "code",
   "execution_count": null,
   "metadata": {},
   "outputs": [],
   "source": [
    "pd.set_option('display.max_columns', None)\n",
    "df"
   ]
  },
  {
   "cell_type": "markdown",
   "metadata": {},
   "source": [
    "Computing the correlation matrix for selected features, and visualizing it as a heatmap."
   ]
  },
  {
   "cell_type": "code",
   "execution_count": null,
   "metadata": {},
   "outputs": [],
   "source": [
    "correlation_matrix = df[['POST_RELEASE_PURCHASE', 'SUPPORTS_LTE',\n",
    "       'CAMERA_FLASHLIGHT', 'SUPPORTS_MULTISIM', 'SUPPORTS_ESIM', 'SUPPORT_5G',\n",
    "       'RAM_SIZE', 'SIM_COUNT', 'CPU_CORES', 'BATTERY_CAPACITY',\n",
    "   ]].corr()\n",
    "\n",
    "plt.figure(figsize=(10, 8))\n",
    "sns.heatmap(correlation_matrix, annot=True, cmap='coolwarm', center=0)\n",
    "plt.title('Correlation Heatmap')\n",
    "plt.show()"
   ]
  },
  {
   "cell_type": "markdown",
   "metadata": {},
   "source": [
    "Calculate the average `POST_RELEASE_PURCHASE` purchase period for each `BRAND`."
   ]
  },
  {
   "cell_type": "code",
   "execution_count": 4,
   "metadata": {},
   "outputs": [],
   "source": [
    "brand_post_release = df.groupby('BRAND').agg({\n",
    "    'POST_RELEASE_PURCHASE': 'mean'\n",
    "}).reset_index()"
   ]
  },
  {
   "cell_type": "markdown",
   "metadata": {},
   "source": [
    "Counting the number of devices for each `BRAND` and renameing the resulting column to `COUNTS`."
   ]
  },
  {
   "cell_type": "code",
   "execution_count": 5,
   "metadata": {},
   "outputs": [],
   "source": [
    "brand_device_id = df.groupby('BRAND').agg({\n",
    "    'DEVICE_ID': 'count'\n",
    "}).reset_index().rename(columns={'DEVICE_ID': 'COUNTS'})"
   ]
  },
  {
   "cell_type": "markdown",
   "metadata": {},
   "source": [
    "Sorting values by descending order using `COUNTS` and `POST_RELEASE_PURCHASE`"
   ]
  },
  {
   "cell_type": "code",
   "execution_count": 6,
   "metadata": {},
   "outputs": [],
   "source": [
    "brand_device_top15 = brand_device_id.sort_values('COUNTS',ascending=False).head(15)"
   ]
  },
  {
   "cell_type": "code",
   "execution_count": 7,
   "metadata": {},
   "outputs": [],
   "source": [
    "brand_post_days_top15 = brand_post_release.sort_values('POST_RELEASE_PURCHASE', ascending=False)"
   ]
  },
  {
   "cell_type": "markdown",
   "metadata": {},
   "source": [
    "Mergeing `brand_device_top15` and `brand_post_days_top15` on `BRAND` with an **inner join**."
   ]
  },
  {
   "cell_type": "code",
   "execution_count": 8,
   "metadata": {},
   "outputs": [],
   "source": [
    "merged_df = pd.merge(brand_device_top15, brand_post_days_top15, on='BRAND', how='inner')\n",
    "merged_df['POST_RELEASE_PURCHASE'] = merged_df['POST_RELEASE_PURCHASE'].astype(int)"
   ]
  },
  {
   "cell_type": "code",
   "execution_count": null,
   "metadata": {},
   "outputs": [],
   "source": [
    "merged_df"
   ]
  },
  {
   "cell_type": "markdown",
   "metadata": {},
   "source": [
    "Generatinge a bar chart displaying the average `POST_RELEASE_PURCHASE` for each `BRAND`."
   ]
  },
  {
   "cell_type": "code",
   "execution_count": null,
   "metadata": {},
   "outputs": [],
   "source": [
    "plt.figure(figsize=(10, 6))\n",
    "plt.bar(brand_post_release['BRAND'], brand_post_release['POST_RELEASE_PURCHASE'], color='#FF2400')\n",
    "\n",
    "plt.xlabel('Brand')\n",
    "plt.ylabel('Average Post-Release Purchase')\n",
    "plt.title('Average Post-Release Purchases by Brand')\n",
    "plt.tight_layout()\n",
    "plt.xticks([])  \n",
    "\n",
    "plt.show()"
   ]
  },
  {
   "cell_type": "code",
   "execution_count": null,
   "metadata": {},
   "outputs": [],
   "source": [
    "df.head()"
   ]
  },
  {
   "cell_type": "markdown",
   "metadata": {},
   "source": [
    "Filtering the DataFrame to include only rows where the `BRAND` is `Apple`."
   ]
  },
  {
   "cell_type": "code",
   "execution_count": 16,
   "metadata": {},
   "outputs": [],
   "source": [
    "apple_df = df[df['BRAND'] == 'Apple']"
   ]
  },
  {
   "cell_type": "markdown",
   "metadata": {},
   "source": [
    "Aggregating `apple_df` by `MODEL` to calculate the average `POST_RELEASE_PURCHASE` and the earliest `RELEASE_DATE`."
   ]
  },
  {
   "cell_type": "code",
   "execution_count": 29,
   "metadata": {},
   "outputs": [],
   "source": [
    "apple_purchases = apple_df.groupby('MODEL').agg({\n",
    "    'POST_RELEASE_PURCHASE' : 'mean',\n",
    "    'RELEASE_DATE': 'min'\n",
    "}).rename(columns={'POST_RELEASE_PURCHASE': 'POST_RELEASE_PURCHASE_AVG'})\n",
    "\n",
    "apple_purchases['POST_RELEASE_PURCHASE_AVG'] = apple_purchases['POST_RELEASE_PURCHASE_AVG'].astype(int)\n",
    "apple_purchases = apple_purchases.sort_values('POST_RELEASE_PURCHASE_AVG', ascending=False)"
   ]
  },
  {
   "cell_type": "code",
   "execution_count": null,
   "metadata": {},
   "outputs": [],
   "source": [
    "apple_purchases"
   ]
  },
  {
   "cell_type": "markdown",
   "metadata": {},
   "source": [
    "Aggregating the dataframe by `ID` to find the earliest `START_DATE` and the latest `END_DATE`."
   ]
  },
  {
   "cell_type": "code",
   "execution_count": 31,
   "metadata": {},
   "outputs": [],
   "source": [
    "aggregated_df = df.groupby('ID').agg({\n",
    "    'START_DATE': 'min',\n",
    "    'END_DATE': 'max'\n",
    "}).reset_index()"
   ]
  },
  {
   "cell_type": "markdown",
   "metadata": {},
   "source": [
    "Aggregating the dataframe by `ID` to count the number of `DEVICE_ID`s per `ID`, renaming the count column to `NUMBER_OF_DEVICES`.\n"
   ]
  },
  {
   "cell_type": "code",
   "execution_count": 43,
   "metadata": {},
   "outputs": [],
   "source": [
    "devicecount_df = df.groupby('ID').agg({\n",
    "    'DEVICE_ID': 'count'\n",
    "}).reset_index().rename(columns={'DEVICE_ID': 'NUMBER_OF_DEVICES'})\n"
   ]
  },
  {
   "cell_type": "markdown",
   "metadata": {},
   "source": [
    "Converting `START_DATE` and `END_DATE` to datetime, then calculate `CUSTOMER_LIFETIME` as the day difference.\n"
   ]
  },
  {
   "cell_type": "code",
   "execution_count": null,
   "metadata": {},
   "outputs": [],
   "source": [
    "aggregated_df['START_DATE'] = pd.to_datetime(aggregated_df['START_DATE'])\n",
    "aggregated_df['END_DATE']  = pd.to_datetime(aggregated_df['END_DATE'])\n",
    "aggregated_df['CUSTOMER_LIFETIME'] = (aggregated_df['END_DATE'] - aggregated_df['START_DATE']).dt.days\n",
    "\n",
    "aggregated_df"
   ]
  },
  {
   "cell_type": "markdown",
   "metadata": {},
   "source": [
    "Mergeing `aggregated_df` and `devicecount_df` on `ID`, then computing `AVG_DAYS` as the average number of days per device.\n"
   ]
  },
  {
   "cell_type": "code",
   "execution_count": null,
   "metadata": {},
   "outputs": [],
   "source": [
    "merged_df = pd.merge(aggregated_df, devicecount_df, on='ID')\n",
    "merged_df['AVG_DAYS'] = (merged_df['CUSTOMER_LIFETIME'] / merged_df['NUMBER_OF_DEVICES']).astype(int)\n",
    "merged_df"
   ]
  },
  {
   "cell_type": "markdown",
   "metadata": {},
   "source": [
    "Examining potential correlations between `DAYS_USED`, `RAM_SIZE`, and `BATTERY_CAPACITY`."
   ]
  },
  {
   "cell_type": "code",
   "execution_count": null,
   "metadata": {},
   "outputs": [],
   "source": [
    "correlation_matrix = df[['RAM_SIZE', 'BATTERY_CAPACITY', 'DAYS_USED']].corr()\n",
    "print(correlation_matrix)\n",
    "\n",
    "sns.heatmap(correlation_matrix, annot=True, cmap='coolwarm', center=0)\n",
    "plt.title('Correlation Heatmap')\n",
    "plt.show()"
   ]
  }
 ],
 "metadata": {
  "kernelspec": {
   "display_name": "Python 3 (ipykernel)",
   "language": "python",
   "name": "python3"
  },
  "language_info": {
   "codemirror_mode": {
    "name": "ipython",
    "version": 3
   },
   "file_extension": ".py",
   "mimetype": "text/x-python",
   "name": "python",
   "nbconvert_exporter": "python",
   "pygments_lexer": "ipython3",
   "version": "3.11.9"
  }
 },
 "nbformat": 4,
 "nbformat_minor": 4
}
