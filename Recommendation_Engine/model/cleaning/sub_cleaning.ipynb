{
 "cells": [
  {
   "cell_type": "markdown",
   "metadata": {},
   "source": [
    "# Subscriber Device Directory cleaning"
   ]
  },
  {
   "cell_type": "markdown",
   "metadata": {},
   "source": [
    "Importing libraries and Readiing the file"
   ]
  },
  {
   "cell_type": "code",
   "execution_count": 123,
   "metadata": {},
   "outputs": [],
   "source": [
    "import pandas as pd\n",
    "import numpy as np\n",
    "from datetime import datetime"
   ]
  },
  {
   "cell_type": "code",
   "execution_count": 17,
   "metadata": {},
   "outputs": [],
   "source": [
    "subdevice_directory = pd.read_csv(\"SUB_DEVICE_DIRECTORY.csv\")\n",
    "pd.set_option('display.max_columns', None)"
   ]
  },
  {
   "cell_type": "code",
   "execution_count": null,
   "metadata": {},
   "outputs": [],
   "source": [
    "subdevice_directory.head(5)"
   ]
  },
  {
   "cell_type": "markdown",
   "metadata": {},
   "source": [
    "Removing trailing spaces from the `MODEL` column in `subdevice_directory` and saveing the dataframe to a **CSV** file."
   ]
  },
  {
   "cell_type": "code",
   "execution_count": 19,
   "metadata": {},
   "outputs": [],
   "source": [
    "subdevice_directory['MODEL'] = subdevice_directory['MODEL'].str.rstrip()\n",
    "subdevice_directory.to_csv('SUB_DEVICE_DIRECTORY.csv', index=False)"
   ]
  },
  {
   "cell_type": "code",
   "execution_count": null,
   "metadata": {},
   "outputs": [],
   "source": [
    "subdevice_directory.head(10)"
   ]
  },
  {
   "cell_type": "markdown",
   "metadata": {},
   "source": [
    "Filter `subdevice_directory` to display rows where the `ID` column contains NaN values."
   ]
  },
  {
   "cell_type": "code",
   "execution_count": null,
   "metadata": {},
   "outputs": [],
   "source": [
    "subdevice_directory[subdevice_directory['ID'].isna()]"
   ]
  },
  {
   "cell_type": "markdown",
   "metadata": {},
   "source": [
    "Calculate the number of missing values for each column in `subdevice_directory`."
   ]
  },
  {
   "cell_type": "code",
   "execution_count": null,
   "metadata": {},
   "outputs": [],
   "source": [
    "subdevice_directory.isnull().sum()"
   ]
  },
  {
   "cell_type": "code",
   "execution_count": 26,
   "metadata": {},
   "outputs": [],
   "source": [
    "subdevice_directory = subdevice_directory.dropna()\n"
   ]
  },
  {
   "cell_type": "code",
   "execution_count": null,
   "metadata": {},
   "outputs": [],
   "source": [
    "subdevice_directory[\"NETTYPE\"].value_counts()"
   ]
  },
  {
   "cell_type": "code",
   "execution_count": null,
   "metadata": {},
   "outputs": [],
   "source": [
    "subdevice_directory['ID'] = subdevice_directory['ID'].astype(int)\n",
    "subdevice_directory.head(12)"
   ]
  },
  {
   "cell_type": "code",
   "execution_count": null,
   "metadata": {},
   "outputs": [],
   "source": [
    "subdevice_directory['NETTYPE'].value_counts()"
   ]
  },
  {
   "cell_type": "markdown",
   "metadata": {},
   "source": [
    "Standardizing `OS` column values in `subdevice_directory` to uniform names like **Windows**, **Android**, **HarmonyOS**, and **iOS** by replacing various formats."
   ]
  },
  {
   "cell_type": "code",
   "execution_count": 110,
   "metadata": {},
   "outputs": [],
   "source": [
    "subdevice_directory.loc[subdevice_directory['OS'].str.contains('Windows', case=False, na=False), 'OS'] = 'Windows'\n",
    "subdevice_directory.loc[subdevice_directory['OS'].str.contains('Android', case=False, na=False), 'OS'] = 'Android'\n",
    "subdevice_directory.loc[subdevice_directory['OS'].str.contains('Harmony', case=False, na=False), 'OS'] = 'HarmonyOS'\n",
    "subdevice_directory['OS'] = subdevice_directory['OS'].replace('iPhone OS', 'iOS', regex=True)\n",
    "subdevice_directory['OS'] = subdevice_directory['OS'].replace('Apple iOS', 'iOS', regex=True)\n",
    "# subdevice_directory.to_csv('SUB_DEVICE_DIRECTORY.csv', index=False)"
   ]
  },
  {
   "cell_type": "code",
   "execution_count": 114,
   "metadata": {},
   "outputs": [],
   "source": [
    "subdevice_directory = subdevice_directory[subdevice_directory['OS'] != 'NONE']"
   ]
  },
  {
   "cell_type": "code",
   "execution_count": null,
   "metadata": {},
   "outputs": [],
   "source": [
    "subdevice_directory['OS'].value_counts()"
   ]
  },
  {
   "cell_type": "code",
   "execution_count": null,
   "metadata": {},
   "outputs": [],
   "source": [
    "subdevice_directory[subdevice_directory[\"OS\"] == \"NONE\"]"
   ]
  },
  {
   "cell_type": "code",
   "execution_count": null,
   "metadata": {},
   "outputs": [],
   "source": [
    "subdevice_directory.head(10)"
   ]
  },
  {
   "cell_type": "code",
   "execution_count": null,
   "metadata": {},
   "outputs": [],
   "source": [
    "# subdevice_directory.to_csv('SUB_DEVICE_DIRECTORY.csv', index=False)\n",
    "subdevice_directory.columns"
   ]
  },
  {
   "cell_type": "markdown",
   "metadata": {},
   "source": [
    "Replacing `END_DATE` values of `2024-07-12` with the current date and then displaying the column names of `subdevice_directory`."
   ]
  },
  {
   "cell_type": "code",
   "execution_count": null,
   "metadata": {},
   "outputs": [],
   "source": [
    "# Current date\n",
    "current_date = datetime.now().date().isoformat()\n",
    "\n",
    "# Replace END_DATE values where '2024-07-08' with current date\n",
    "subdevice_directory.loc[subdevice_directory['END_DATE'] == '2024-07-12', 'END_DATE'] = current_date\n",
    "\n",
    "subdevice_directory.columns"
   ]
  },
  {
   "cell_type": "code",
   "execution_count": null,
   "metadata": {},
   "outputs": [],
   "source": [
    "subdevice_directory.isnull().sum()"
   ]
  },
  {
   "cell_type": "code",
   "execution_count": null,
   "metadata": {},
   "outputs": [],
   "source": [
    "subdevice_directory['END_DATE'].value_counts()"
   ]
  },
  {
   "cell_type": "code",
   "execution_count": null,
   "metadata": {},
   "outputs": [],
   "source": [
    "subdevice_directory.sample(5)"
   ]
  },
  {
   "cell_type": "markdown",
   "metadata": {},
   "source": [
    "Calculate the number of days between `START_DATE` and `END_DATE` and store the result as an integer in a new column `DAYS_USED`."
   ]
  },
  {
   "cell_type": "code",
   "execution_count": 140,
   "metadata": {},
   "outputs": [],
   "source": [
    "subdevice_directory[\"DAYS_USED\"] = (pd.to_datetime(subdevice_directory[\"END_DATE\"]) - pd.to_datetime(subdevice_directory[\"START_DATE\"])).dt.days.astype(int)\n",
    "subdevice_directory.to_csv('SUB_DEVICE_DIRECTORY.csv', index=False)"
   ]
  },
  {
   "cell_type": "code",
   "execution_count": null,
   "metadata": {},
   "outputs": [],
   "source": [
    "subdevice_directory[\"DAYS_USED\"]"
   ]
  }
 ],
 "metadata": {
  "kernelspec": {
   "display_name": "Python 3 (ipykernel)",
   "language": "python",
   "name": "python3"
  },
  "language_info": {
   "codemirror_mode": {
    "name": "ipython",
    "version": 3
   },
   "file_extension": ".py",
   "mimetype": "text/x-python",
   "name": "python",
   "nbconvert_exporter": "python",
   "pygments_lexer": "ipython3",
   "version": "3.11.9"
  }
 },
 "nbformat": 4,
 "nbformat_minor": 4
}
