{
 "cells": [
  {
   "cell_type": "markdown",
   "metadata": {},
   "source": [
    "# DB query"
   ]
  },
  {
   "cell_type": "code",
   "execution_count": 1,
   "metadata": {},
   "outputs": [],
   "source": [
    "import pandas as pd\n",
    "import numpy as np\n",
    "from sqlalchemy import create_engine, MetaData, Table\n",
    "import sqlalchemy as sql\n",
    "import sqlalchemy.ext.declarative as declarative\n",
    "import sqlalchemy.orm as orm\n",
    "from dotenv import load_dotenv\n",
    "import os\n",
    "from sqlalchemy import create_engine, MetaData, Table\n",
    "from sqlalchemy.orm import sessionmaker\n",
    "from sqlalchemy.ext.declarative import declarative_base\n",
    "from sqlalchemy import Column, Integer, String\n",
    "\n"
   ]
  },
  {
   "cell_type": "code",
   "execution_count": 2,
   "metadata": {},
   "outputs": [
    {
     "name": "stdout",
     "output_type": "stream",
     "text": [
      "DATABASE_URL: postgresql+psycopg2://halekyan:ha1234@db:5432/smartphone\n",
      "DB_USER: halekyan\n",
      "DB_PASSWORD: ha1234\n",
      "DB_NAME: smartphone\n"
     ]
    }
   ],
   "source": [
    "load_dotenv(\".env\")\n",
    "\n",
    "DATABASE_URL = os.getenv('DATABASE_URL')\n",
    "DB_USER = os.getenv('DB_USER')\n",
    "DB_PASSWORD = os.getenv('DB_PASSWORD')\n",
    "DB_NAME = os.getenv('DB_NAME')\n",
    "\n",
    "# Print to check if variables are loaded correctly (optional for debugging)\n",
    "print(f\"DATABASE_URL: {DATABASE_URL}\")\n",
    "print(f\"DB_USER: {DB_USER}\")\n",
    "print(f\"DB_PASSWORD: {DB_PASSWORD}\")\n",
    "print(f\"DB_NAME: {DB_NAME}\")"
   ]
  },
  {
   "cell_type": "code",
   "execution_count": 7,
   "metadata": {},
   "outputs": [],
   "source": [
    "try:\n",
    "    engine = create_engine(DATABASE_URL)\n",
    "\n",
    "    query = 'SELECT * FROM public.\"DEVICE_DIRECTORY\"'\n",
    "    df = pd.read_sql_query(query, engine)\n",
    "    query2 = 'SELECT * FROM public.\"SUB_DEVICE_DIRECTORY\"'\n",
    "    sdf = pd.read_sql_query(query2, engine)\n",
    "except Exception as e:\n",
    "    print(f\"Error connecting to database: {e}\")"
   ]
  },
  {
   "cell_type": "markdown",
   "metadata": {},
   "source": [
    "Device Directory"
   ]
  },
  {
   "cell_type": "code",
   "execution_count": null,
   "metadata": {},
   "outputs": [],
   "source": [
    "df"
   ]
  },
  {
   "cell_type": "markdown",
   "metadata": {},
   "source": [
    "Subscriber Device Directory"
   ]
  },
  {
   "cell_type": "code",
   "execution_count": null,
   "metadata": {},
   "outputs": [],
   "source": [
    "sdf"
   ]
  }
 ],
 "metadata": {
  "kernelspec": {
   "display_name": "Python 3 (ipykernel)",
   "language": "python",
   "name": "python3"
  },
  "language_info": {
   "codemirror_mode": {
    "name": "ipython",
    "version": 3
   },
   "file_extension": ".py",
   "mimetype": "text/x-python",
   "name": "python",
   "nbconvert_exporter": "python",
   "pygments_lexer": "ipython3",
   "version": "3.11.9"
  }
 },
 "nbformat": 4,
 "nbformat_minor": 4
}
