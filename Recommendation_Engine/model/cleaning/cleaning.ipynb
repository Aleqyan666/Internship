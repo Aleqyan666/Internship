{
 "cells": [
  {
   "cell_type": "markdown",
   "metadata": {},
   "source": [
    "# Device Directory Cleaning"
   ]
  },
  {
   "cell_type": "markdown",
   "metadata": {},
   "source": [
    "Importing libraries"
   ]
  },
  {
   "cell_type": "code",
   "execution_count": 162,
   "metadata": {},
   "outputs": [],
   "source": [
    "import pandas as pd\n",
    "import numpy as np"
   ]
  },
  {
   "cell_type": "markdown",
   "metadata": {},
   "source": [
    "Reading `DEVICE_DIRECTORY.csv` file into a dataframe"
   ]
  },
  {
   "cell_type": "code",
   "execution_count": 163,
   "metadata": {},
   "outputs": [],
   "source": [
    "device_directory = pd.read_csv(\"DEVICE_DIRECTORY.csv\")"
   ]
  },
  {
   "cell_type": "markdown",
   "metadata": {},
   "source": [
    "Load the `RAM_SIZE` column from the `DEVICE_DIRECTORY.csv` file into a dataframe."
   ]
  },
  {
   "cell_type": "code",
   "execution_count": null,
   "metadata": {},
   "outputs": [],
   "source": [
    "reserve = pd.read_csv(\"DEVICE_DIRECTORY.csv\")\n",
    "reserve = reserve[\"RAM_SIZE\"] "
   ]
  },
  {
   "cell_type": "code",
   "execution_count": 8,
   "metadata": {},
   "outputs": [],
   "source": [
    "pd.set_option('display.max_rows', None)"
   ]
  },
  {
   "cell_type": "code",
   "execution_count": null,
   "metadata": {},
   "outputs": [],
   "source": [
    "device_directory.isnull().sum() "
   ]
  },
  {
   "cell_type": "code",
   "execution_count": null,
   "metadata": {},
   "outputs": [],
   "source": [
    "pd.set_option('display.max_columns', None)\n",
    "\n",
    "device_directory.head()"
   ]
  },
  {
   "cell_type": "code",
   "execution_count": null,
   "metadata": {},
   "outputs": [],
   "source": [
    "device_directory[\"GSM_BANDS\"].value_counts()"
   ]
  },
  {
   "cell_type": "code",
   "execution_count": 12,
   "metadata": {},
   "outputs": [],
   "source": [
    "device_directory['GSM_BANDS'] = device_directory['GSM_BANDS'].fillna(\"1800; 1900; 850; 900\")\n"
   ]
  },
  {
   "cell_type": "code",
   "execution_count": null,
   "metadata": {},
   "outputs": [],
   "source": [
    "device_directory[\"SUPPORTS_LTE\"].value_counts()"
   ]
  },
  {
   "cell_type": "code",
   "execution_count": 14,
   "metadata": {},
   "outputs": [],
   "source": [
    "device_directory['SUPPORTS_LTE'] = device_directory['SUPPORTS_LTE'].fillna(1)\n"
   ]
  },
  {
   "cell_type": "code",
   "execution_count": null,
   "metadata": {},
   "outputs": [],
   "source": [
    "device_directory[\"SUPPORTS_VOLTE\"].value_counts()"
   ]
  },
  {
   "cell_type": "code",
   "execution_count": 16,
   "metadata": {},
   "outputs": [],
   "source": [
    "device_directory['SUPPORTS_VOLTE'] = device_directory['SUPPORTS_VOLTE'].fillna(1)\n"
   ]
  },
  {
   "cell_type": "code",
   "execution_count": null,
   "metadata": {},
   "outputs": [],
   "source": [
    "device_directory[\"DATA_ONLY\"].value_counts()"
   ]
  },
  {
   "cell_type": "markdown",
   "metadata": {},
   "source": [
    "Drop the `DATA_ONLY` column from `device_directory` in-place.\n"
   ]
  },
  {
   "cell_type": "code",
   "execution_count": null,
   "metadata": {},
   "outputs": [],
   "source": [
    "device_directory.drop(\"DATA_ONLY\", axis = 1 , inplace = True)"
   ]
  },
  {
   "cell_type": "code",
   "execution_count": null,
   "metadata": {
    "scrolled": true
   },
   "outputs": [],
   "source": [
    "device_directory[\"BATTERY_TYPE\"].value_counts()"
   ]
  },
  {
   "cell_type": "markdown",
   "metadata": {},
   "source": [
    "Data cleaning for `BATTERY_TYPE`"
   ]
  },
  {
   "cell_type": "code",
   "execution_count": 19,
   "metadata": {},
   "outputs": [],
   "source": [
    "device_directory['BATTERY_TYPE'] = device_directory['BATTERY_TYPE'].replace({1: 'Li-ion'})\n",
    "\n"
   ]
  },
  {
   "cell_type": "code",
   "execution_count": null,
   "metadata": {},
   "outputs": [],
   "source": [
    "device_directory[\"BATTERY_TYPE\"][10398] = \"Li-ion\""
   ]
  },
  {
   "cell_type": "markdown",
   "metadata": {},
   "source": [
    "Data cleaning for `BODY_TYPE`"
   ]
  },
  {
   "cell_type": "code",
   "execution_count": null,
   "metadata": {},
   "outputs": [],
   "source": [
    "device_directory[\"BODY_TYPE\"].value_counts()"
   ]
  },
  {
   "cell_type": "code",
   "execution_count": 22,
   "metadata": {},
   "outputs": [],
   "source": [
    "device_directory[\"BODY_TYPE\"] = device_directory[\"BODY_TYPE\"].fillna(\"touch\")\n"
   ]
  },
  {
   "cell_type": "markdown",
   "metadata": {},
   "source": [
    "Data cleaning for `BODY_WIDTH`"
   ]
  },
  {
   "cell_type": "code",
   "execution_count": null,
   "metadata": {},
   "outputs": [],
   "source": [
    "device_directory[\"BODY_WIDTH\"].value_counts()"
   ]
  },
  {
   "cell_type": "code",
   "execution_count": 24,
   "metadata": {},
   "outputs": [],
   "source": [
    "body_width = device_directory[\"BODY_WIDTH\"].mean()"
   ]
  },
  {
   "cell_type": "code",
   "execution_count": 25,
   "metadata": {},
   "outputs": [],
   "source": [
    "device_directory[\"BODY_WIDTH\"] = device_directory[\"BODY_WIDTH\"].fillna(body_width)"
   ]
  },
  {
   "cell_type": "markdown",
   "metadata": {},
   "source": [
    "Data cleaning for `BODY_HEIGHT`"
   ]
  },
  {
   "cell_type": "code",
   "execution_count": null,
   "metadata": {},
   "outputs": [],
   "source": [
    "device_directory[\"BODY_HEIGHT\"].value_counts()"
   ]
  },
  {
   "cell_type": "code",
   "execution_count": 27,
   "metadata": {},
   "outputs": [],
   "source": [
    "body_height = device_directory[\"BODY_HEIGHT\"].mean()"
   ]
  },
  {
   "cell_type": "code",
   "execution_count": 28,
   "metadata": {},
   "outputs": [],
   "source": [
    "device_directory[\"BODY_HEIGHT\"] = device_directory[\"BODY_HEIGHT\"].fillna(body_height)"
   ]
  },
  {
   "cell_type": "markdown",
   "metadata": {},
   "source": [
    "Data cleaning for `BODY_DEPTH`"
   ]
  },
  {
   "cell_type": "code",
   "execution_count": null,
   "metadata": {},
   "outputs": [],
   "source": [
    "device_directory[\"BODY_DEPTH\"].value_counts()"
   ]
  },
  {
   "cell_type": "code",
   "execution_count": 30,
   "metadata": {},
   "outputs": [],
   "source": [
    "body_depth = device_directory[\"BODY_DEPTH\"].mean()"
   ]
  },
  {
   "cell_type": "code",
   "execution_count": 31,
   "metadata": {},
   "outputs": [],
   "source": [
    "device_directory[\"BODY_DEPTH\"] = device_directory[\"BODY_DEPTH\"].fillna(body_depth)"
   ]
  },
  {
   "cell_type": "markdown",
   "metadata": {},
   "source": [
    "Data cleaning for `OS_TYPE`"
   ]
  },
  {
   "cell_type": "code",
   "execution_count": null,
   "metadata": {},
   "outputs": [],
   "source": [
    "device_directory[\"OS_TYPE\"].value_counts()"
   ]
  },
  {
   "cell_type": "code",
   "execution_count": 33,
   "metadata": {},
   "outputs": [],
   "source": [
    "device_directory[\"OS_TYPE\"] = device_directory[\"OS_TYPE\"].fillna(\"Android\")"
   ]
  },
  {
   "cell_type": "markdown",
   "metadata": {},
   "source": [
    "Data cleaning for `OS_VENDOR`"
   ]
  },
  {
   "cell_type": "code",
   "execution_count": null,
   "metadata": {},
   "outputs": [],
   "source": [
    "device_directory[\"OS_VENDOR\"].value_counts()"
   ]
  },
  {
   "cell_type": "code",
   "execution_count": 35,
   "metadata": {},
   "outputs": [],
   "source": [
    "device_directory[\"OS_VENDOR\"] = device_directory[\"OS_VENDOR\"].fillna(\"Google\")"
   ]
  },
  {
   "cell_type": "code",
   "execution_count": null,
   "metadata": {},
   "outputs": [],
   "source": [
    "device_directory[\"OS_VERSION\"].value_counts()"
   ]
  },
  {
   "cell_type": "markdown",
   "metadata": {},
   "source": [
    "Drop the `OS_VERSION` column from `device_directory` in-place."
   ]
  },
  {
   "cell_type": "code",
   "execution_count": null,
   "metadata": {},
   "outputs": [],
   "source": [
    "device_directory.drop(\"OS_VERSION\", axis = 1 , inplace = True)"
   ]
  },
  {
   "cell_type": "markdown",
   "metadata": {},
   "source": [
    "Data cleaning for `CAMERA_FLASHLIGHT`"
   ]
  },
  {
   "cell_type": "code",
   "execution_count": null,
   "metadata": {},
   "outputs": [],
   "source": [
    "device_directory[\"CAMERA_FLASHLIGHT\"].value_counts()"
   ]
  },
  {
   "cell_type": "code",
   "execution_count": 38,
   "metadata": {},
   "outputs": [],
   "source": [
    "device_directory[\"CAMERA_FLASHLIGHT\"] = device_directory[\"CAMERA_FLASHLIGHT\"].fillna(1.0)"
   ]
  },
  {
   "cell_type": "markdown",
   "metadata": {},
   "source": [
    "Data cleaning for `CAMERA_MATRIX`"
   ]
  },
  {
   "cell_type": "code",
   "execution_count": null,
   "metadata": {},
   "outputs": [],
   "source": [
    "device_directory[\"CAMERA_MATRIX\"].value_counts()"
   ]
  },
  {
   "cell_type": "code",
   "execution_count": 40,
   "metadata": {},
   "outputs": [],
   "source": [
    "cm_average = device_directory[\"CAMERA_MATRIX\"].mean()"
   ]
  },
  {
   "cell_type": "code",
   "execution_count": 41,
   "metadata": {},
   "outputs": [],
   "source": [
    "device_directory[\"CAMERA_MATRIX\"] = device_directory[\"CAMERA_MATRIX\"].fillna(cm_average)"
   ]
  },
  {
   "cell_type": "code",
   "execution_count": 42,
   "metadata": {},
   "outputs": [],
   "source": [
    "device_directory['CAMERA_MATRIX'] = device_directory['CAMERA_MATRIX'].replace(\"Google\", cm_average)\n"
   ]
  },
  {
   "cell_type": "markdown",
   "metadata": {},
   "source": [
    "Data cleaning for `SUPPORTS_MULTISIM`"
   ]
  },
  {
   "cell_type": "code",
   "execution_count": null,
   "metadata": {},
   "outputs": [],
   "source": [
    "device_directory[\"SUPPORTS_MULTISIM\"].value_counts()"
   ]
  },
  {
   "cell_type": "code",
   "execution_count": 44,
   "metadata": {},
   "outputs": [],
   "source": [
    "device_directory[\"SUPPORTS_MULTISIM\"] = device_directory[\"SUPPORTS_MULTISIM\"].fillna(1.0)"
   ]
  },
  {
   "cell_type": "markdown",
   "metadata": {},
   "source": [
    "Data cleaning for `SUPPORTS_ESIM`"
   ]
  },
  {
   "cell_type": "code",
   "execution_count": null,
   "metadata": {},
   "outputs": [],
   "source": [
    "device_directory[\"SUPPORTS_ESIM\"].value_counts()"
   ]
  },
  {
   "cell_type": "code",
   "execution_count": 46,
   "metadata": {},
   "outputs": [],
   "source": [
    "device_directory[\"SUPPORTS_ESIM\"] = device_directory[\"SUPPORTS_ESIM\"].fillna(0.0)"
   ]
  },
  {
   "cell_type": "markdown",
   "metadata": {},
   "source": [
    "Data cleaning for `SUPPORT_5G`"
   ]
  },
  {
   "cell_type": "code",
   "execution_count": null,
   "metadata": {},
   "outputs": [],
   "source": [
    "device_directory[\"SUPPORT_5G\"].value_counts()"
   ]
  },
  {
   "cell_type": "code",
   "execution_count": 48,
   "metadata": {},
   "outputs": [],
   "source": [
    "device_directory[\"SUPPORT_5G\"] = device_directory[\"SUPPORT_5G\"].fillna(0.0)"
   ]
  },
  {
   "cell_type": "markdown",
   "metadata": {},
   "source": [
    "Data cleaning for `SIM_COUNT`"
   ]
  },
  {
   "cell_type": "code",
   "execution_count": null,
   "metadata": {},
   "outputs": [],
   "source": [
    "device_directory[\"SIM_COUNT\"].value_counts()"
   ]
  },
  {
   "cell_type": "code",
   "execution_count": 50,
   "metadata": {},
   "outputs": [],
   "source": [
    "device_directory[\"SIM_COUNT\"] = device_directory[\"SIM_COUNT\"].fillna(2.0)"
   ]
  },
  {
   "cell_type": "markdown",
   "metadata": {},
   "source": [
    "Data cleaning for `CPU_CORES`"
   ]
  },
  {
   "cell_type": "code",
   "execution_count": null,
   "metadata": {},
   "outputs": [],
   "source": [
    "device_directory[\"CPU_CORES\"].value_counts()"
   ]
  },
  {
   "cell_type": "code",
   "execution_count": 52,
   "metadata": {},
   "outputs": [],
   "source": [
    "device_directory[\"CPU_CORES\"] = device_directory[\"CPU_CORES\"].fillna(8)"
   ]
  },
  {
   "cell_type": "markdown",
   "metadata": {},
   "source": [
    "Data cleaning for `GPU`"
   ]
  },
  {
   "cell_type": "code",
   "execution_count": null,
   "metadata": {},
   "outputs": [],
   "source": [
    "device_directory[\"GPU\"].value_counts()"
   ]
  },
  {
   "cell_type": "code",
   "execution_count": null,
   "metadata": {},
   "outputs": [],
   "source": [
    "device_directory.drop(\"GPU\", axis = 1 , inplace = True)"
   ]
  },
  {
   "cell_type": "markdown",
   "metadata": {},
   "source": [
    "Drop the `GPU_FREQ` column from `device_directory` in-place.\n"
   ]
  },
  {
   "cell_type": "code",
   "execution_count": null,
   "metadata": {},
   "outputs": [],
   "source": [
    "device_directory.drop(\"GPU_FREQ\", axis = 1 , inplace = True)"
   ]
  },
  {
   "cell_type": "code",
   "execution_count": 56,
   "metadata": {},
   "outputs": [],
   "source": [
    "device_directory.to_csv('DEVICE_DIRECTORY.csv', index=False)\n"
   ]
  },
  {
   "cell_type": "markdown",
   "metadata": {},
   "source": [
    "Data cleaninf for `MULTISIM_MODE`"
   ]
  },
  {
   "cell_type": "code",
   "execution_count": null,
   "metadata": {},
   "outputs": [],
   "source": [
    "device_directory[\"MULTISIM_MODE\"].value_counts()"
   ]
  },
  {
   "cell_type": "code",
   "execution_count": 58,
   "metadata": {},
   "outputs": [],
   "source": [
    "device_directory[\"MULTISIM_MODE\"] = device_directory[\"MULTISIM_MODE\"].fillna('Standby')"
   ]
  },
  {
   "cell_type": "markdown",
   "metadata": {},
   "source": [
    "Data cleaning for `RAM_SIZE`"
   ]
  },
  {
   "cell_type": "code",
   "execution_count": null,
   "metadata": {},
   "outputs": [],
   "source": [
    "device_directory[\"RAM_SIZE\"].value_counts()"
   ]
  },
  {
   "cell_type": "code",
   "execution_count": 60,
   "metadata": {},
   "outputs": [],
   "source": [
    "device_directory[\"RAM_SIZE\"] = device_directory[\"RAM_SIZE\"].fillna(4096.00)"
   ]
  },
  {
   "cell_type": "code",
   "execution_count": 61,
   "metadata": {},
   "outputs": [],
   "source": [
    "device_directory.to_csv('DEVICE_DIRECTORY.csv', index=False)\n"
   ]
  },
  {
   "cell_type": "markdown",
   "metadata": {},
   "source": [
    "Data cleaning for `PIXEL_DENSITY`"
   ]
  },
  {
   "cell_type": "code",
   "execution_count": null,
   "metadata": {},
   "outputs": [],
   "source": [
    "device_directory[\"PIXEL_DENSITY\"].value_counts()"
   ]
  },
  {
   "cell_type": "code",
   "execution_count": null,
   "metadata": {},
   "outputs": [],
   "source": [
    "device_directory[\"PIXEL_DENSITY\"].astype(int).mean()"
   ]
  },
  {
   "cell_type": "code",
   "execution_count": null,
   "metadata": {},
   "outputs": [],
   "source": [
    "device_directory.to_csv('DEVICE_DIRECTORY.csv', index=False)\n",
    "device_directory.head()"
   ]
  },
  {
   "cell_type": "markdown",
   "metadata": {},
   "source": [
    "Data cleaning for `RELEASE_DATE`"
   ]
  },
  {
   "cell_type": "code",
   "execution_count": null,
   "metadata": {},
   "outputs": [],
   "source": [
    "device_directory[\"RELEASE_DATE\"].value_counts()"
   ]
  },
  {
   "cell_type": "code",
   "execution_count": 66,
   "metadata": {},
   "outputs": [],
   "source": [
    "device_directory[\"RELEASE_DATE\"] = device_directory[\"RELEASE_DATE\"].fillna(\"2023-01-01\")"
   ]
  },
  {
   "cell_type": "markdown",
   "metadata": {},
   "source": [
    "Data cleaning for `PROCESSOR`"
   ]
  },
  {
   "cell_type": "code",
   "execution_count": null,
   "metadata": {},
   "outputs": [],
   "source": [
    "device_directory[\"PROCESSOR\"].value_counts()"
   ]
  },
  {
   "cell_type": "code",
   "execution_count": 68,
   "metadata": {},
   "outputs": [],
   "source": [
    "device_directory.drop(\"PROCESSOR\", axis = 1 , inplace = True)"
   ]
  },
  {
   "cell_type": "markdown",
   "metadata": {},
   "source": [
    "Drop the `VIDEO_REOLUTION` column from `device_directory` in-place."
   ]
  },
  {
   "cell_type": "code",
   "execution_count": 69,
   "metadata": {},
   "outputs": [],
   "source": [
    "device_directory.drop(\"VIDEO_RESOLUTION\", axis = 1 , inplace = True)"
   ]
  },
  {
   "cell_type": "markdown",
   "metadata": {},
   "source": [
    "Drop the `SCREEN_RESOLUTION` column from `device_directory` in-place.\n"
   ]
  },
  {
   "cell_type": "code",
   "execution_count": 70,
   "metadata": {},
   "outputs": [],
   "source": [
    "device_directory.drop(\"SCREEN_RESOLUTION\", axis = 1 , inplace = True)"
   ]
  },
  {
   "cell_type": "code",
   "execution_count": null,
   "metadata": {},
   "outputs": [],
   "source": [
    "device_directory[\"PIXEL_DENSITY\"].value_counts()"
   ]
  },
  {
   "cell_type": "markdown",
   "metadata": {},
   "source": [
    "Data cleaning for `PIXEL_DENSITY`"
   ]
  },
  {
   "cell_type": "code",
   "execution_count": null,
   "metadata": {},
   "outputs": [],
   "source": [
    "device_directory[\"PIXEL_DENSITY\"] = device_directory[\"PIXEL_DENSITY\"].replace({'1\\xa0520.00': '1520.00'})\n",
    "device_directory[\"PIXEL_DENSITY\"] = device_directory[\"PIXEL_DENSITY\"].replace({'1\\xa0430.00': '1430.00'})\n",
    "device_directory[\"PIXEL_DENSITY\"] = device_directory[\"PIXEL_DENSITY\"].replace({'2\\xa0500.00': '2500.00'})\n",
    "device_directory[\"PIXEL_DENSITY\"] = device_directory[\"PIXEL_DENSITY\"].astype(float)"
   ]
  },
  {
   "cell_type": "code",
   "execution_count": null,
   "metadata": {},
   "outputs": [],
   "source": [
    "device_directory[\"PIXEL_DENSITY\"].median()\n"
   ]
  },
  {
   "cell_type": "code",
   "execution_count": null,
   "metadata": {},
   "outputs": [],
   "source": [
    "px_density_mean = device_directory[\"PIXEL_DENSITY\"].mean() # 325.23"
   ]
  },
  {
   "cell_type": "code",
   "execution_count": null,
   "metadata": {},
   "outputs": [],
   "source": [
    "device_directory['PIXEL_DENSITY'] = device_directory['PIXEL_DENSITY'].fillna(px_density_mean)"
   ]
  },
  {
   "cell_type": "markdown",
   "metadata": {},
   "source": [
    "Data cleaning for `BATTERY_CAPACITY`"
   ]
  },
  {
   "cell_type": "code",
   "execution_count": null,
   "metadata": {},
   "outputs": [],
   "source": [
    "device_directory[\"BATTERY_CAPACITY\"].value_counts()"
   ]
  },
  {
   "cell_type": "code",
   "execution_count": null,
   "metadata": {},
   "outputs": [],
   "source": [
    "device_directory[\"BATTERY_CAPACITY\"] = device_directory[\"BATTERY_CAPACITY\"].str.replace(',', '.')\n",
    "device_directory[\"BATTERY_CAPACITY\"] = device_directory[\"BATTERY_CAPACITY\"].str.replace('\\xa0', '')\n",
    "device_directory[\"BATTERY_CAPACITY\"] = device_directory[\"BATTERY_CAPACITY\"].astype(float)\n",
    "# device_directory[\"BATTERY_CAPACITY\"] = device_directory[\"BATTERY_CAPACITY\"].astype(float)\n",
    "# device_directory.loc[device_directory[\"BATTERY_CAPACITY\"] >= 10000, \"BATTERY_CAPACITY\"] /= 100\n",
    "device_directory[\"BATTERY_CAPACITY\"].value_counts()"
   ]
  },
  {
   "cell_type": "code",
   "execution_count": 97,
   "metadata": {},
   "outputs": [],
   "source": [
    "battery_capacity_mean = device_directory[\"BATTERY_CAPACITY\"].mean()"
   ]
  },
  {
   "cell_type": "code",
   "execution_count": null,
   "metadata": {},
   "outputs": [],
   "source": [
    "battery_capacity_mean"
   ]
  },
  {
   "cell_type": "code",
   "execution_count": 99,
   "metadata": {},
   "outputs": [],
   "source": [
    "device_directory['BATTERY_CAPACITY'] = device_directory['BATTERY_CAPACITY'].fillna(battery_capacity_mean)\n"
   ]
  },
  {
   "cell_type": "markdown",
   "metadata": {},
   "source": [
    "Data cleaning for `CAMERA_PHOTOSIZE` "
   ]
  },
  {
   "cell_type": "code",
   "execution_count": null,
   "metadata": {},
   "outputs": [],
   "source": [
    "device_directory['CAMERA_PHOTOSIZE'].value_counts()"
   ]
  },
  {
   "cell_type": "markdown",
   "metadata": {},
   "source": [
    "Drop the `CAMERA_MATRIX` and `FRONTCAM_PHOTOSIZE` column from `device_directory` in-place.\n"
   ]
  },
  {
   "cell_type": "code",
   "execution_count": null,
   "metadata": {},
   "outputs": [],
   "source": [
    "device_directory.drop(\"CAMERA_MATRIX\", axis = 1 , inplace = True)\n",
    "device_directory.drop(\"FRONTCAM_PHOTOSIZE\", axis = 1 , inplace = True)"
   ]
  },
  {
   "cell_type": "code",
   "execution_count": null,
   "metadata": {},
   "outputs": [],
   "source": [
    "device_directory.columns"
   ]
  },
  {
   "cell_type": "code",
   "execution_count": null,
   "metadata": {},
   "outputs": [],
   "source": [
    "pd.set_option('display.max_columns', None)\n",
    "device_directory.head(5)"
   ]
  },
  {
   "cell_type": "markdown",
   "metadata": {},
   "source": [
    "Data cleaning for `RAM_SIZE`"
   ]
  },
  {
   "cell_type": "code",
   "execution_count": 104,
   "metadata": {},
   "outputs": [],
   "source": [
    "device_directory['RAM_SIZE']= reserve"
   ]
  },
  {
   "cell_type": "code",
   "execution_count": 105,
   "metadata": {},
   "outputs": [],
   "source": [
    "device_directory[\"RAM_SIZE\"] = device_directory[\"RAM_SIZE\"].replace({'2\\xa0048,00': '2048.00'})\n",
    "device_directory[\"RAM_SIZE\"] = device_directory[\"RAM_SIZE\"].replace({'4\\xa0096,00': '4096.00'})\n",
    "device_directory[\"RAM_SIZE\"] = device_directory[\"RAM_SIZE\"].replace({'1\\xa0024,00': '1024.00'})\n",
    "device_directory[\"RAM_SIZE\"] = device_directory[\"RAM_SIZE\"].replace({'4096.0': '4096.00'})#3 072,00       8 192,00\n",
    "device_directory[\"RAM_SIZE\"] = device_directory[\"RAM_SIZE\"].replace({'3\\xa0072,00': '3072.00'})\n",
    "device_directory[\"RAM_SIZE\"] = device_directory[\"RAM_SIZE\"].replace({'8\\xa0192,00': '8192.00'})\n",
    "device_directory[\"RAM_SIZE\"] = device_directory[\"RAM_SIZE\"].replace({'6\\xa0144,00': '6144.00'})\n",
    "device_directory[\"RAM_SIZE\"] = device_directory[\"RAM_SIZE\"].replace({'6\\xa0156,00': '6156.00'})\n",
    "device_directory[\"RAM_SIZE\"] = device_directory[\"RAM_SIZE\"].replace({'1\\xa0536,00': '1536.00'})\n",
    "device_directory[\"RAM_SIZE\"] = device_directory[\"RAM_SIZE\"].replace({'1\\xa02288,00': '12288.00'})\n",
    "device_directory[\"RAM_SIZE\"] = device_directory[\"RAM_SIZE\"].replace({'6\\xa05536,00': '65536.00'})\n",
    "device_directory[\"RAM_SIZE\"] = device_directory[\"RAM_SIZE\"].replace({'1\\xa06384,00': '16384.00'})\n",
    "device_directory['RAM_SIZE'] = device_directory['RAM_SIZE'].str.replace('\\xa0', '')\n",
    "device_directory[\"RAM_SIZE\"] = device_directory[\"RAM_SIZE\"].replace({\"6\": '6144.00'})\n",
    "# device_directory[\"RAM_SIZE\"].astype(float)"
   ]
  },
  {
   "cell_type": "code",
   "execution_count": 106,
   "metadata": {},
   "outputs": [],
   "source": [
    "device_directory['RAM_SIZE'] = device_directory['RAM_SIZE'].str.replace(',', '.')"
   ]
  },
  {
   "cell_type": "code",
   "execution_count": null,
   "metadata": {},
   "outputs": [],
   "source": [
    "device_directory['RAM_SIZE'] = device_directory['RAM_SIZE'].str.replace(r'(\\.\\d{2})\\d+', r'\\1', regex=True)\n",
    "device_directory[\"RAM_SIZE\"].value_counts()"
   ]
  },
  {
   "cell_type": "code",
   "execution_count": 108,
   "metadata": {},
   "outputs": [],
   "source": [
    "device_directory['RAM_SIZE'] = device_directory['RAM_SIZE'].astype(float).apply(lambda x: x * 1024.00 if x <= 12 else x)\n",
    "device_directory['RAM_SIZE'] = device_directory['RAM_SIZE'].abs()"
   ]
  },
  {
   "cell_type": "code",
   "execution_count": null,
   "metadata": {},
   "outputs": [],
   "source": [
    "# device_directory[\"RAM_SIZE\"].astype(float)\n",
    "device_directory[\"RAM_SIZE\"].value_counts()"
   ]
  },
  {
   "cell_type": "code",
   "execution_count": 110,
   "metadata": {},
   "outputs": [],
   "source": [
    "avg_ram = device_directory[\"RAM_SIZE\"].mean()\n",
    "device_directory[\"RAM_SIZE\"] = device_directory[\"RAM_SIZE\"].fillna(avg_ram)"
   ]
  },
  {
   "cell_type": "code",
   "execution_count": null,
   "metadata": {},
   "outputs": [],
   "source": [
    "device_directory[\"PIXEL_DENSITY\"].value_counts()\n"
   ]
  },
  {
   "cell_type": "code",
   "execution_count": null,
   "metadata": {},
   "outputs": [],
   "source": [
    "device_directory.sample(5)"
   ]
  },
  {
   "cell_type": "markdown",
   "metadata": {},
   "source": [
    "Data cleaning for `CPU_CORES`"
   ]
  },
  {
   "cell_type": "code",
   "execution_count": null,
   "metadata": {},
   "outputs": [],
   "source": [
    "device_directory['CPU_CORES'].value_counts()"
   ]
  },
  {
   "cell_type": "code",
   "execution_count": 146,
   "metadata": {},
   "outputs": [],
   "source": [
    "device_directory['SUPPORTS_MULTISIM'] = device_directory['SUPPORTS_MULTISIM'].astype(int)\n",
    "device_directory['SUPPORTS_ESIM'] = device_directory['SUPPORTS_ESIM'].astype(int)\n",
    "device_directory['SUPPORT_5G'] = device_directory['SUPPORT_5G'].astype(int)\n",
    "device_directory['SIM_COUNT'] = device_directory['SIM_COUNT'].astype(int)\n",
    "device_directory['SUPPORTS_VOLTE'] = device_directory['SUPPORTS_VOLTE'].astype(int)\n",
    "device_directory['SUPPORTS_LTE'] = device_directory['SUPPORTS_LTE'].astype(int)\n",
    "device_directory['CAMERA_FLASHLIGHT'] = device_directory['CAMERA_FLASHLIGHT'].astype(int)\n",
    "device_directory['RAM_SIZE'] = device_directory['RAM_SIZE'].astype(int)"
   ]
  },
  {
   "cell_type": "code",
   "execution_count": null,
   "metadata": {},
   "outputs": [],
   "source": [
    "device_directory['CPU_CORES'] = device_directory['CPU_CORES'].str.replace(',', '.')\n",
    "device_directory['CPU_CORES'] = device_directory['CPU_CORES'].str.replace('\\xa0', '')"
   ]
  },
  {
   "cell_type": "code",
   "execution_count": 148,
   "metadata": {},
   "outputs": [],
   "source": [
    "# device_directory['CPU_CORES'].value_counts()\n",
    "# device_directory['CPU_CORES'] = device_directory['CPU_CORES'].astype(float)\n",
    "# device_directory['CPU_CORES'] = device_directory['CPU_CORES'].fillna(8.0)\n",
    "device_directory['CPU_CORES'] = device_directory['CPU_CORES'].astype(int)\n",
    "device_directory.to_csv('device_directory.csv', index=False)\n"
   ]
  },
  {
   "cell_type": "markdown",
   "metadata": {},
   "source": [
    "Data cleaning for `PIXEL_DENSITY`"
   ]
  },
  {
   "cell_type": "code",
   "execution_count": null,
   "metadata": {},
   "outputs": [],
   "source": [
    "device_directory[\"PIXEL_DENSITY\"].value_counts()"
   ]
  },
  {
   "cell_type": "code",
   "execution_count": 169,
   "metadata": {},
   "outputs": [],
   "source": [
    "# device_directory[\"PIXEL_DENSITY\"] = device_directory[\"PIXEL_DENSITY\"].str.replace(',', '.')\n",
    "# device_directory[\"PIXEL_DENSITY\"] = device_directory[\"PIXEL_DENSITY\"].str.replace('\\xa0', '')\n",
    "device_directory[\"PIXEL_DENSITY\"] = device_directory[\"PIXEL_DENSITY\"].astype(float)\n",
    "avg_pixeldensity = device_directory[\"PIXEL_DENSITY\"].mean()\n",
    "device_directory['PIXEL_DENSITY'] = device_directory['PIXEL_DENSITY'].fillna(avg_pixeldensity)\n",
    "device_directory['PIXEL_DENSITY'] = device_directory['PIXEL_DENSITY'].round(2)"
   ]
  }
 ],
 "metadata": {
  "kernelspec": {
   "display_name": "Python 3 (ipykernel)",
   "language": "python",
   "name": "python3"
  },
  "language_info": {
   "codemirror_mode": {
    "name": "ipython",
    "version": 3
   },
   "file_extension": ".py",
   "mimetype": "text/x-python",
   "name": "python",
   "nbconvert_exporter": "python",
   "pygments_lexer": "ipython3",
   "version": "3.11.9"
  }
 },
 "nbformat": 4,
 "nbformat_minor": 4
}
