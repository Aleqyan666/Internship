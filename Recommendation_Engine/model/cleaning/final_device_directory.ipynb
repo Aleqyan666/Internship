{
 "cells": [
  {
   "cell_type": "markdown",
   "metadata": {},
   "source": [
    "Importing libraries"
   ]
  },
  {
   "cell_type": "code",
   "execution_count": 8,
   "metadata": {},
   "outputs": [],
   "source": [
    "import numpy as np\n",
    "import pandas as pd\n",
    "import matplotlib.pyplot as plt\n",
    "import seaborn as sns\n",
    "import dask.dataframe as dd"
   ]
  },
  {
   "cell_type": "markdown",
   "metadata": {},
   "source": [
    "Reading files into dataframe"
   ]
  },
  {
   "cell_type": "code",
   "execution_count": 9,
   "metadata": {},
   "outputs": [],
   "source": [
    "df = pd.read_csv(\"DEVICE_DIRECTORY.csv\")\n",
    "subdf = pd.read_csv(\"SUB_DEVICE_DIRECTORY.csv\")\n",
    "pd.set_option(\"display.max_columns\", None)"
   ]
  },
  {
   "cell_type": "code",
   "execution_count": null,
   "metadata": {},
   "outputs": [],
   "source": [
    "df['RAM_SIZE'].unique()"
   ]
  },
  {
   "cell_type": "code",
   "execution_count": 11,
   "metadata": {},
   "outputs": [],
   "source": [
    "df.to_csv('DEVICE_DIRECTORY.csv', index=False)\n"
   ]
  },
  {
   "cell_type": "code",
   "execution_count": null,
   "metadata": {},
   "outputs": [],
   "source": [
    "subdf"
   ]
  },
  {
   "cell_type": "markdown",
   "metadata": {},
   "source": [
    "Converting 'DATE' columns into datetime datatype"
   ]
  },
  {
   "cell_type": "code",
   "execution_count": null,
   "metadata": {},
   "outputs": [],
   "source": [
    "subdf['START_DATE'] = pd.to_datetime(subdf['START_DATE'])\n",
    "subdf['END_DATE'] = pd.to_datetime(subdf['END_DATE'])\n",
    "# subdf.to_csv('SUB_DEVICE_DIRECTORY.csv', index=False)\n",
    "(subdf[subdf[\"ID\"] == 1052312]).sort_values(by='START_DATE')\n"
   ]
  },
  {
   "cell_type": "markdown",
   "metadata": {},
   "source": [
    "Filter brands from the average days used per brand dataset, sorted in descending order.\n"
   ]
  },
  {
   "cell_type": "code",
   "execution_count": 14,
   "metadata": {},
   "outputs": [],
   "source": [
    "avg_days_used_per_brand = subdf.groupby('BRAND')['DAYS_USED'].mean().reset_index()\n",
    "avg_days_used_per_brand.columns = ['BRAND', 'AVG_DAYS_USED']\n",
    "pd.set_option(\"display.max_rows\", None)\n",
    "avg_days_used_per_brand.sort_values(by=\"AVG_DAYS_USED\", ascending=False)\n",
    "filtered_brands = avg_days_used_per_brand[avg_days_used_per_brand['BRAND'].isin(\n",
    "    ['Apple', 'Samsung','Nokia','Xiaomi','Huawei','Motorola','Microsoft'])]"
   ]
  },
  {
   "cell_type": "code",
   "execution_count": null,
   "metadata": {},
   "outputs": [],
   "source": [
    "subdf.columns\n",
    "    "
   ]
  },
  {
   "cell_type": "markdown",
   "metadata": {},
   "source": [
    "Addding a new column with the rounded average days used for each model and brand combination in the dataset.\n"
   ]
  },
  {
   "cell_type": "code",
   "execution_count": 17,
   "metadata": {},
   "outputs": [],
   "source": [
    "subdf['AVG_DAYS_USED'] = (subdf.groupby(['MODEL', 'BRAND'])['DAYS_USED'].transform('mean')).round(1)\n",
    "subdf.to_csv('SUB_DEVICE_DIRECTORY.csv', index=False)"
   ]
  },
  {
   "cell_type": "markdown",
   "metadata": {},
   "source": [
    "Merge `subdf` with `df` on `DEVICE_ID` and `TAC`, including all rows from `subdf` and matching rows from `df`.\n"
   ]
  },
  {
   "cell_type": "code",
   "execution_count": null,
   "metadata": {},
   "outputs": [],
   "source": [
    "merged_df = pd.merge(subdf, df, left_on='DEVICE_ID', right_on='TAC', how='left')\n",
    "merged_df.sample(6)"
   ]
  },
  {
   "cell_type": "code",
   "execution_count": null,
   "metadata": {},
   "outputs": [],
   "source": [
    "merged_df.head()"
   ]
  },
  {
   "cell_type": "code",
   "execution_count": null,
   "metadata": {},
   "outputs": [],
   "source": [
    "merged_df.sample(12)"
   ]
  },
  {
   "cell_type": "code",
   "execution_count": null,
   "metadata": {},
   "outputs": [],
   "source": [
    "merged_df.columns"
   ]
  },
  {
   "cell_type": "markdown",
   "metadata": {},
   "source": [
    "Calculating the post-release purchase period by subtracting the `RELEASE_DATE` from the `START_DATE` and storing it in a new column.\n"
   ]
  },
  {
   "cell_type": "code",
   "execution_count": 26,
   "metadata": {},
   "outputs": [],
   "source": [
    "merged_df['POST_RELEASE_PURCHASE'] = pd.to_datetime(merged_df['START_DATE']) - pd.to_datetime(merged_df['RELEASE_DATE'])"
   ]
  },
  {
   "cell_type": "code",
   "execution_count": null,
   "metadata": {},
   "outputs": [],
   "source": [
    "merged_df.head()"
   ]
  },
  {
   "cell_type": "markdown",
   "metadata": {},
   "source": [
    "Converting the `POST_RELEASE_PURCHASE` column to integers by extracting the number of days as a string and then converting it to an integer.\n"
   ]
  },
  {
   "cell_type": "code",
   "execution_count": 35,
   "metadata": {},
   "outputs": [],
   "source": [
    "merged_df['POST_RELEASE_PURCHASE'] = merged_df['POST_RELEASE_PURCHASE'].astype(str).str.extract('(\\d+)').astype(int)\n"
   ]
  },
  {
   "cell_type": "code",
   "execution_count": 36,
   "metadata": {},
   "outputs": [],
   "source": [
    "merged_df = merged_df.rename(columns={'OS_TYPE_x': 'OS_TYPE'})\n"
   ]
  },
  {
   "cell_type": "code",
   "execution_count": 37,
   "metadata": {},
   "outputs": [],
   "source": [
    "merged_df = merged_df[['ID', 'DEVICE_ID', 'BRAND', 'MODEL', 'NETTYPE', 'OS', 'OS_TYPE', 'OS_VENDOR',\n",
    "        'RELEASE_DATE','START_DATE', 'END_DATE', 'POST_RELEASE_PURCHASE', 'DAYS_USED', 'AVG_DAYS_USED', 'SUPPORTS_LTE',\n",
    "        'SUPPORTS_VOLTE', 'BAND_1800', 'BAND_1900', 'BAND_850', 'BAND_900',\n",
    "        'CAMERA_FLASHLIGHT', 'SUPPORTS_MULTISIM', 'SUPPORTS_ESIM', 'SUPPORT_5G',\n",
    "        'RAM_SIZE', 'SIM_COUNT', 'CPU_CORES', 'BATTERY_CAPACITY', 'BATTERY_TYPE', \n",
    "        'BODY_DEPTH', 'BODY_HEIGHT', 'BODY_WIDTH', 'BODY_TYPE',\n",
    "         'MULTISIM_MODE', 'PIXEL_DENSITY']]"
   ]
  },
  {
   "cell_type": "code",
   "execution_count": null,
   "metadata": {},
   "outputs": [],
   "source": [
    "merged_df.shape"
   ]
  },
  {
   "cell_type": "markdown",
   "metadata": {},
   "source": [
    "Converting the `merged_df` DataFrame to a Dask DataFrame with 12 partitions and saving it as a single CSV file named `MERGED_DATA_PART.csv`.\n"
   ]
  },
  {
   "cell_type": "code",
   "execution_count": null,
   "metadata": {},
   "outputs": [],
   "source": [
    "ddf = dd.from_pandas(merged_df, npartitions=12) \n",
    "ddf.to_csv('MERGED_DATA_PART.csv', index=False, single_file=True)"
   ]
  },
  {
   "cell_type": "code",
   "execution_count": null,
   "metadata": {},
   "outputs": [],
   "source": [
    "ddf.head()"
   ]
  },
  {
   "cell_type": "code",
   "execution_count": 43,
   "metadata": {},
   "outputs": [],
   "source": [
    "total_data = pd.read_csv('MERGED_DATA_PART.csv')"
   ]
  },
  {
   "cell_type": "code",
   "execution_count": null,
   "metadata": {},
   "outputs": [],
   "source": [
    "total_data.head()"
   ]
  }
 ],
 "metadata": {
  "kernelspec": {
   "display_name": "Python 3",
   "language": "python",
   "name": "python3"
  },
  "language_info": {
   "codemirror_mode": {
    "name": "ipython",
    "version": 3
   },
   "file_extension": ".py",
   "mimetype": "text/x-python",
   "name": "python",
   "nbconvert_exporter": "python",
   "pygments_lexer": "ipython3",
   "version": "3.11.9"
  }
 },
 "nbformat": 4,
 "nbformat_minor": 2
}
